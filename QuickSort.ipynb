{
 "cells": [
  {
   "cell_type": "code",
   "execution_count": 18,
   "metadata": {},
   "outputs": [
    {
     "name": "stdout",
     "output_type": "stream",
     "text": [
      "0 1\n",
      "[5, 3, 2, 6, 4, 1, 3, 7]\n",
      "1 2\n",
      "[5, 3, 2, 6, 4, 1, 3, 7]\n",
      "4 3\n",
      "[5, 3, 4, 6, 2, 1, 3, 7]\n",
      "5 4\n",
      "[5, 3, 4, 1, 2, 6, 3, 7]\n",
      "6 5\n",
      "[5, 3, 4, 1, 3, 6, 2, 7]\n"
     ]
    }
   ],
   "source": [
    "A = [5,3,2,6,4,1,3,7]\n",
    "pivot = len(A)-1\n",
    "while(pivot>0):\n",
    "    partition = 0\n",
    "    for i in range(0, len(A)):\n",
    "        if(A[pivot]>= A[i]):\n",
    "            A[partition], A[i] = A[i], A[partition]\n",
    "            partition = partition+1\n",
    "            print(i, partition)\n",
    "            print(A)\n",
    "        pivot = pivot-1\n"
   ]
  },
  {
   "cell_type": "code",
   "execution_count": 16,
   "metadata": {},
   "outputs": [
    {
     "data": {
      "text/plain": [
       "7"
      ]
     },
     "execution_count": 16,
     "metadata": {},
     "output_type": "execute_result"
    }
   ],
   "source": [
    "A[len(A)-1]"
   ]
  },
  {
   "cell_type": "code",
   "execution_count": 9,
   "metadata": {},
   "outputs": [
    {
     "data": {
      "text/plain": [
       "7"
      ]
     },
     "execution_count": 9,
     "metadata": {},
     "output_type": "execute_result"
    }
   ],
   "source": [
    "A[len(A)-1]"
   ]
  },
  {
   "cell_type": "code",
   "execution_count": 1,
   "metadata": {
    "collapsed": true
   },
   "outputs": [],
   "source": [
    "ss = 10"
   ]
  },
  {
   "cell_type": "code",
   "execution_count": 2,
   "metadata": {},
   "outputs": [
    {
     "name": "stdout",
     "output_type": "stream",
     "text": [
      "hi\n"
     ]
    }
   ],
   "source": [
    "if ss>=10:\n",
    "    print('hi')"
   ]
  },
  {
   "cell_type": "code",
   "execution_count": null,
   "metadata": {
    "collapsed": true
   },
   "outputs": [],
   "source": []
  }
 ],
 "metadata": {
  "kernelspec": {
   "display_name": "Python 3",
   "language": "python",
   "name": "python3"
  },
  "language_info": {
   "codemirror_mode": {
    "name": "ipython",
    "version": 3
   },
   "file_extension": ".py",
   "mimetype": "text/x-python",
   "name": "python",
   "nbconvert_exporter": "python",
   "pygments_lexer": "ipython3",
   "version": "3.5.0"
  }
 },
 "nbformat": 4,
 "nbformat_minor": 2
}
