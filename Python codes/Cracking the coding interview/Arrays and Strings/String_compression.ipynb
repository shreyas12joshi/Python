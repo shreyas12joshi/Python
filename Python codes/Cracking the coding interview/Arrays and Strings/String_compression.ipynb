{
 "cells": [
  {
   "cell_type": "markdown",
   "metadata": {},
   "source": [
    "# String Compression: \n",
    "---\n",
    "Implement a method to perform basic string compression using the counts\n",
    "of repeated characters. For example, the string aabcccccaaa would become a2b1c5a3. If the\n",
    "\"compressed\" string would not become smaller than the original string, your method should return\n",
    "the original string. You can assume the string has only uppercase and lowercase letters (a - z)"
   ]
  },
  {
   "cell_type": "code",
   "execution_count": 25,
   "metadata": {
    "collapsed": true
   },
   "outputs": [],
   "source": [
    "def compressed(string):\n",
    "    parts = []\n",
    "    curr_letter = string[0]\n",
    "    curr_count = 1\n",
    "    \n",
    "    for letter in string[1:]:\n",
    "        if curr_letter == letter:\n",
    "            curr_count += 1\n",
    "        else:\n",
    "            parts.append(curr_letter + str(curr_count))\n",
    "            curr_letter = letter\n",
    "            curr_count = 1\n",
    "    parts.append(curr_letter + str(curr_count))\n",
    "    compressed = ''.join(parts)\n",
    "    if len(compressed) > len(string):\n",
    "        return string\n",
    "    else:\n",
    "        return compressed"
   ]
  },
  {
   "cell_type": "code",
   "execution_count": 26,
   "metadata": {},
   "outputs": [
    {
     "data": {
      "text/plain": [
       "'a2b1c5a3'"
      ]
     },
     "execution_count": 26,
     "metadata": {},
     "output_type": "execute_result"
    }
   ],
   "source": [
    "compressed('aabcccccaaa')"
   ]
  }
 ],
 "metadata": {
  "kernelspec": {
   "display_name": "Python 3",
   "language": "python",
   "name": "python3"
  },
  "language_info": {
   "codemirror_mode": {
    "name": "ipython",
    "version": 3
   },
   "file_extension": ".py",
   "mimetype": "text/x-python",
   "name": "python",
   "nbconvert_exporter": "python",
   "pygments_lexer": "ipython3",
   "version": "3.5.0"
  }
 },
 "nbformat": 4,
 "nbformat_minor": 2
}
