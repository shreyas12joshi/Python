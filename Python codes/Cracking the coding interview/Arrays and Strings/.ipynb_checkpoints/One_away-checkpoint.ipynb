{
 "cells": [
  {
   "cell_type": "markdown",
   "metadata": {},
   "source": [
    "# 1.5 One Away: \n",
    "---\n",
    "There are three types of edits that can be performed on strings: insert a character,\n",
    "remove a character, or replace a character. Given two strings, write a function to check if they are\n",
    "one edit (or zero edits) away.\n",
    "\n",
    "EXAMPLE\n",
    "\n",
    "pale, pIe -> true\n",
    "\n",
    "pales. pale -> true\n",
    "\n",
    "pale. bale -> true\n",
    "\n",
    "pale. bake -> false "
   ]
  },
  {
   "cell_type": "code",
   "execution_count": 4,
   "metadata": {
    "collapsed": true
   },
   "outputs": [],
   "source": [
    "def one_away(str1, str2):\n",
    "    if abs(len(str1)-len(str2))>1:\n",
    "        return False\n",
    "    elif len(str1) - len(str2) == 0:\n",
    "        count = 0\n",
    "        for i in range(len(str1)):\n",
    "            if str1[i] != str2[i]:\n",
    "                count += 1\n",
    "                if count > 1: return False\n",
    "        return True\n",
    "    \n",
    "    else:\n",
    "        if len(str1) > len(str2):\n",
    "            longer, shorter = str1, str2\n",
    "        else:\n",
    "            longer, shorter = str2, str1\n",
    "        shift = 0\n",
    "        for i in range(len(shorter)):\n",
    "            if shorter[i] != longer[i + shift]:\n",
    "                if shift or shorter[i]!= longer[i+1]:\n",
    "                    return False\n",
    "                shift = 1\n",
    "        return True\n",
    "    "
   ]
  },
  {
   "cell_type": "code",
   "execution_count": 12,
   "metadata": {},
   "outputs": [
    {
     "data": {
      "text/plain": [
       "False"
      ]
     },
     "execution_count": 12,
     "metadata": {},
     "output_type": "execute_result"
    }
   ],
   "source": [
    "one_away('pale','bake')"
   ]
  },
  {
   "cell_type": "code",
   "execution_count": null,
   "metadata": {
    "collapsed": true
   },
   "outputs": [],
   "source": []
  }
 ],
 "metadata": {
  "kernelspec": {
   "display_name": "Python 3",
   "language": "python",
   "name": "python3"
  },
  "language_info": {
   "codemirror_mode": {
    "name": "ipython",
    "version": 3
   },
   "file_extension": ".py",
   "mimetype": "text/x-python",
   "name": "python",
   "nbconvert_exporter": "python",
   "pygments_lexer": "ipython3",
   "version": "3.5.0"
  }
 },
 "nbformat": 4,
 "nbformat_minor": 2
}
