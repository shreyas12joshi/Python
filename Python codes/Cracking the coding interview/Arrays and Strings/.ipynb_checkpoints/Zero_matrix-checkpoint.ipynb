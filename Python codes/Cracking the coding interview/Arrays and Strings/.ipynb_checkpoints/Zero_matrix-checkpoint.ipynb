{
 "cells": [
  {
   "cell_type": "markdown",
   "metadata": {},
   "source": [
    "# Zero Matrix:\n",
    "---\n",
    "Write an algorithm such that if an element in an MxN matrix is 0, then its entire row and\n",
    "column are set to 0"
   ]
  },
  {
   "cell_type": "code",
   "execution_count": 6,
   "metadata": {
    "collapsed": true
   },
   "outputs": [],
   "source": [
    "def zero_matrix(m):\n",
    "    dict_row = {}\n",
    "    dict_col = {}\n",
    "    for row in range(len(m)):\n",
    "        for col in range(len(m)):\n",
    "            if (m[row][col] == 0 and row not in dict_row \n",
    "                and col not in dict_col):\n",
    "                for i in range(len(m)):\n",
    "                    m[row][i] = 0\n",
    "                    m[i][col] = 0\n",
    "                dict_row[row] = row\n",
    "                dict_col[col] = col\n",
    "    return m"
   ]
  },
  {
   "cell_type": "code",
   "execution_count": 7,
   "metadata": {},
   "outputs": [
    {
     "data": {
      "text/plain": [
       "[[0, 0, 0], [3, 5, 0], [8, 11, 0]]"
      ]
     },
     "execution_count": 7,
     "metadata": {},
     "output_type": "execute_result"
    }
   ],
   "source": [
    "m = [[1,4,0],[3,5,2],[8,11,9]]\n",
    "m1 = zero_matrix(m)\n",
    "m1"
   ]
  },
  {
   "cell_type": "code",
   "execution_count": null,
   "metadata": {
    "collapsed": true
   },
   "outputs": [],
   "source": []
  }
 ],
 "metadata": {
  "kernelspec": {
   "display_name": "Python 3",
   "language": "python",
   "name": "python3"
  },
  "language_info": {
   "codemirror_mode": {
    "name": "ipython",
    "version": 3
   },
   "file_extension": ".py",
   "mimetype": "text/x-python",
   "name": "python",
   "nbconvert_exporter": "python",
   "pygments_lexer": "ipython3",
   "version": "3.5.0"
  }
 },
 "nbformat": 4,
 "nbformat_minor": 2
}
