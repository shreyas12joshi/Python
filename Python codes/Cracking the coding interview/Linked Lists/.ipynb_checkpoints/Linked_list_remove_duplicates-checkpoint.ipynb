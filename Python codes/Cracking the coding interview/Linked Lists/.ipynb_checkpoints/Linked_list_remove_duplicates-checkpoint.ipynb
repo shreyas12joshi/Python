{
 "cells": [
  {
   "cell_type": "markdown",
   "metadata": {},
   "source": [
    "# Remove Dups: \n",
    "---\n",
    "Write code to remove duplicates from an unsorted linked list"
   ]
  },
  {
   "cell_type": "code",
   "execution_count": 1,
   "metadata": {
    "collapsed": true
   },
   "outputs": [],
   "source": [
    "class Node(object):\n",
    "    def __init__(self, data, n=None):\n",
    "        self.data = data\n",
    "        self.next_node = n\n",
    "        \n",
    "class LinkedList(object):\n",
    "    def __init__(self):\n",
    "        self.root = None\n",
    "        self.size = 0\n",
    "        \n",
    "    def add(self, data):\n",
    "        new_node = Node(data, self.root)\n",
    "        self.root = new_node\n",
    "        self.size += 1\n",
    "        \n",
    "    def display(self):\n",
    "        curr_node = self.root\n",
    "        if curr_node==None:\n",
    "            print('No data in the list')\n",
    "            return\n",
    "        while curr_node != None:\n",
    "            print(curr_node.data, end=\" \")\n",
    "            curr_node = curr_node.next_node        \n",
    "       # print('\\nlist size {}'.format(self.size))\n",
    "        return\n",
    "            \n",
    "    \n",
    "    def remove_duplicate(self):\n",
    "        curr_node = self.root\n",
    "        prev = None\n",
    "        dict1 = {}\n",
    "        if curr_node is None:\n",
    "            return False\n",
    "        while curr_node:\n",
    "            if curr_node.data not in dict1:\n",
    "                dict1[curr_node.data] = curr_node.data\n",
    "                prev = curr_node\n",
    "                curr_node = curr_node.next_node\n",
    "            else:\n",
    "                prev.next_node = curr_node.next_node\n",
    "                curr_node = curr_node.next_node\n",
    "                self.size -= 1\n",
    "                \n",
    "        return"
   ]
  },
  {
   "cell_type": "code",
   "execution_count": 3,
   "metadata": {},
   "outputs": [
    {
     "name": "stdout",
     "output_type": "stream",
     "text": [
      "7 4 2 4 3 2 "
     ]
    }
   ],
   "source": [
    "mylist = LinkedList()\n",
    "mylist.add(2)\n",
    "mylist.add(3)\n",
    "mylist.add(4)\n",
    "mylist.add(2)\n",
    "mylist.add(4)\n",
    "mylist.add(7)\n",
    "mylist.display()"
   ]
  },
  {
   "cell_type": "code",
   "execution_count": 4,
   "metadata": {},
   "outputs": [
    {
     "name": "stdout",
     "output_type": "stream",
     "text": [
      "7 4 2 3 "
     ]
    }
   ],
   "source": [
    "mylist.remove_duplicate()\n",
    "mylist.display()"
   ]
  },
  {
   "cell_type": "code",
   "execution_count": null,
   "metadata": {
    "collapsed": true
   },
   "outputs": [],
   "source": []
  }
 ],
 "metadata": {
  "kernelspec": {
   "display_name": "Python 3",
   "language": "python",
   "name": "python3"
  },
  "language_info": {
   "codemirror_mode": {
    "name": "ipython",
    "version": 3
   },
   "file_extension": ".py",
   "mimetype": "text/x-python",
   "name": "python",
   "nbconvert_exporter": "python",
   "pygments_lexer": "ipython3",
   "version": "3.5.0"
  }
 },
 "nbformat": 4,
 "nbformat_minor": 2
}
