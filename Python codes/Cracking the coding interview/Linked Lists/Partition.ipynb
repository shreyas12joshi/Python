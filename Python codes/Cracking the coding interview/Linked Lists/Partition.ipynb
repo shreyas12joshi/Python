{
 "cells": [
  {
   "cell_type": "markdown",
   "metadata": {},
   "source": [
    "# 2.4 Partition \n",
    "---\n",
    "Write code to partition a linked list around a value x, such that all nodes less than x come\n",
    "before all nodes greater than or equal to x. lf x is contained within the list, the values of x only need\n",
    "to be after the elements less than x (see below). The partition element x can appear anywhere in the\n",
    "\"right partition\"; it does not need to appear between the left and right partitions.\n",
    "\n",
    "EXAMPLE\n",
    "\n",
    "Input: 3 -> 5 -> 8 -> 5 - > 10 -> 2 -> 1 (partition = 5)\n",
    "\n",
    "Output: 3 -> 1 -> 2 -> 10 -> 5 -> 5 -> 8 "
   ]
  },
  {
   "cell_type": "code",
   "execution_count": 15,
   "metadata": {},
   "outputs": [],
   "source": [
    "class Node(object):\n",
    "    def __init__(self, data, n=None):\n",
    "        self.data = data\n",
    "        self.next_node = n\n",
    "        \n",
    "class LinkedList(object):\n",
    "    def __init__(self):\n",
    "        self.root = None\n",
    "        self.size = 0\n",
    "        \n",
    "    def add(self, data):\n",
    "        new_node = Node(data, self.root)\n",
    "        self.root = new_node\n",
    "        self.size += 1\n",
    "        \n",
    "    def display(self, root):\n",
    "        curr_node = root\n",
    "        if curr_node==None:\n",
    "            print('No data in the list')\n",
    "            return\n",
    "        while curr_node != None:\n",
    "            print(curr_node.data, end=\" \")\n",
    "            curr_node = curr_node.next_node        \n",
    "       # print('\\nlist size {}'.format(self.size))\n",
    "        return\n",
    "    \n",
    "    def new_list(self, p):\n",
    "        l_head, l_tail = None, None\n",
    "        r_head, r_tail = None, None\n",
    "        \n",
    "        curr = self.root\n",
    "        while curr:\n",
    "            if curr.data < p:\n",
    "                if l_head is None:\n",
    "                    l_head = l_tail = curr\n",
    "                else:\n",
    "                    l_tail.next_node = curr\n",
    "                    l_tail = curr\n",
    "            else:\n",
    "                if r_head is None:\n",
    "                    r_head = r_tail = curr\n",
    "                else:\n",
    "                    r_tail.next_node = curr\n",
    "                    r_tail = curr\n",
    "            curr = curr.next_node\n",
    "        l_tail.next_node = r_head\n",
    "        r_tail.next_node = None\n",
    "        return l_head"
   ]
  },
  {
   "cell_type": "code",
   "execution_count": 20,
   "metadata": {},
   "outputs": [
    {
     "name": "stdout",
     "output_type": "stream",
     "text": [
      "1 2 10 5 8 5 3 "
     ]
    }
   ],
   "source": [
    "mylist = LinkedList()\n",
    "mylist.add(3)\n",
    "mylist.add(5)\n",
    "mylist.add(8)\n",
    "mylist.add(5)\n",
    "mylist.add(10)\n",
    "mylist.add(2)\n",
    "mylist.add(1)\n",
    "mylist.display(mylist.root)"
   ]
  },
  {
   "cell_type": "code",
   "execution_count": 21,
   "metadata": {},
   "outputs": [
    {
     "name": "stdout",
     "output_type": "stream",
     "text": [
      "1 2 5 5 3 10 8 "
     ]
    }
   ],
   "source": [
    "new_head = mylist.new_list(8)\n",
    "mylist.display(new_head)"
   ]
  },
  {
   "cell_type": "code",
   "execution_count": null,
   "metadata": {
    "collapsed": true
   },
   "outputs": [],
   "source": []
  }
 ],
 "metadata": {
  "kernelspec": {
   "display_name": "Python 3",
   "language": "python",
   "name": "python3"
  },
  "language_info": {
   "codemirror_mode": {
    "name": "ipython",
    "version": 3
   },
   "file_extension": ".py",
   "mimetype": "text/x-python",
   "name": "python",
   "nbconvert_exporter": "python",
   "pygments_lexer": "ipython3",
   "version": "3.5.0"
  }
 },
 "nbformat": 4,
 "nbformat_minor": 2
}
