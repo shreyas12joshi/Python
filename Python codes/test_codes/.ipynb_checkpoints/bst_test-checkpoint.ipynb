{
 "cells": [
  {
   "cell_type": "code",
   "execution_count": 34,
   "metadata": {},
   "outputs": [],
   "source": [
    "class Node(object):\n",
    "    def __init__(self, data):\n",
    "        self.val = data\n",
    "        self.leftchild = None\n",
    "        self.rightchild = None\n",
    "\n",
    "class BST(object):\n",
    "    def __init__(self):\n",
    "        self.root = None\n",
    "        \n",
    "    def insert(self, root, value):\n",
    "        if self.root is None:\n",
    "            self.root = Node(value)\n",
    "            return\n",
    "        if value == root.val:\n",
    "            return False\n",
    "        elif value < root.val:\n",
    "            if root.leftchild:\n",
    "                self.insert(root.leftchild, value)\n",
    "            else:\n",
    "                root.leftchild = Node(value)\n",
    "                return\n",
    "        else:\n",
    "            if root.rightchild:\n",
    "                self.insert(root.rightchild, value)\n",
    "            else:\n",
    "                root.rightchild = Node(value)\n",
    "                return\n",
    "        \n",
    "    def inorder(self, root):\n",
    "        if self.root is None:\n",
    "            return None\n",
    "        if root.leftchild:\n",
    "            self.inorder(root.leftchild)\n",
    "        print(root.val)\n",
    "        if root.rightchild:\n",
    "            self.inorder(root.rightchild)\n",
    "    \n",
    "    def preorder(self, root):\n",
    "        if self.root is None:\n",
    "            return None\n",
    "        print(root.val)\n",
    "        if root.leftchild:\n",
    "            self.preorder(root.leftchild)\n",
    "        if root.rightchild:\n",
    "            self.preorder(root.rightchild)\n",
    "            \n",
    "    def postorder(self, root):\n",
    "        if self.root is None:\n",
    "            return None\n",
    "        if root.leftchild:\n",
    "            self.postorder(root.leftchild)\n",
    "        if root.rightchild:\n",
    "            self.postorder(root.rightchild)\n",
    "        print(root.val)\n",
    "        \n",
    "    def get_height(self, root):\n",
    "        if root is None:\n",
    "            return 0\n",
    "        if root.leftchild and root.rightchild:\n",
    "            return 1 + max(self.get_height(root.leftchild),\n",
    "                          self.get_height(root.rightchild))\n",
    "        elif root.leftchild:\n",
    "            return 1 + self.get_height(root.leftchild)\n",
    "        elif root.rightchild:\n",
    "            return 1 + self.get_height(root.rightchild)\n",
    "        else:\n",
    "            return 1"
   ]
  },
  {
   "cell_type": "code",
   "execution_count": 35,
   "metadata": {},
   "outputs": [],
   "source": [
    "bst = BST()\n",
    "bst.insert(bst.root, 10)\n",
    "bst.insert(bst.root, 5)\n",
    "bst.insert(bst.root, 14)\n",
    "bst.insert(bst.root, 13)\n",
    "bst.insert(bst.root, 8)\n",
    "bst.insert(bst.root, 6)"
   ]
  },
  {
   "cell_type": "code",
   "execution_count": 36,
   "metadata": {},
   "outputs": [
    {
     "data": {
      "text/plain": [
       "4"
      ]
     },
     "execution_count": 36,
     "metadata": {},
     "output_type": "execute_result"
    }
   ],
   "source": [
    "bst.get_height(bst.root)"
   ]
  },
  {
   "cell_type": "code",
   "execution_count": null,
   "metadata": {
    "collapsed": true
   },
   "outputs": [],
   "source": []
  }
 ],
 "metadata": {
  "kernelspec": {
   "display_name": "Python 3",
   "language": "python",
   "name": "python3"
  },
  "language_info": {
   "codemirror_mode": {
    "name": "ipython",
    "version": 3
   },
   "file_extension": ".py",
   "mimetype": "text/x-python",
   "name": "python",
   "nbconvert_exporter": "python",
   "pygments_lexer": "ipython3",
   "version": "3.5.0"
  }
 },
 "nbformat": 4,
 "nbformat_minor": 2
}
