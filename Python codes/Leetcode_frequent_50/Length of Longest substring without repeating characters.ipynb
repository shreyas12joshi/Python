{
 "cells": [
  {
   "cell_type": "code",
   "execution_count": 3,
   "metadata": {
    "collapsed": true
   },
   "outputs": [],
   "source": [
    "def LengthOfLongestSubstring(str):\n",
    "    if not str:\n",
    "        return 0\n",
    "    start = longest = 0\n",
    "    substring_map = {}\n",
    "    for i in range(len(str)):\n",
    "        position = substring_map.get(str[i])\n",
    "        if position is not None and position >= start:\n",
    "            length = i - start\n",
    "            start = position + 1\n",
    "            longest = max(longest, length)\n",
    "        substring_map[str[i]] = i\n",
    "    longest = max(longest, len(str) - start)\n",
    "    return longest"
   ]
  },
  {
   "cell_type": "code",
   "execution_count": 4,
   "metadata": {},
   "outputs": [
    {
     "name": "stdout",
     "output_type": "stream",
     "text": [
      "5\n"
     ]
    }
   ],
   "source": [
    "print(LengthOfLongestSubstring('abcdcedfg'))"
   ]
  },
  {
   "cell_type": "code",
   "execution_count": null,
   "metadata": {
    "collapsed": true
   },
   "outputs": [],
   "source": []
  }
 ],
 "metadata": {
  "kernelspec": {
   "display_name": "Python 3",
   "language": "python",
   "name": "python3"
  },
  "language_info": {
   "codemirror_mode": {
    "name": "ipython",
    "version": 3
   },
   "file_extension": ".py",
   "mimetype": "text/x-python",
   "name": "python",
   "nbconvert_exporter": "python",
   "pygments_lexer": "ipython3",
   "version": "3.5.0"
  }
 },
 "nbformat": 4,
 "nbformat_minor": 2
}
