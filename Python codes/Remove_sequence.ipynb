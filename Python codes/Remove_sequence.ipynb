{
 "cells": [
  {
   "cell_type": "markdown",
   "metadata": {},
   "source": [
    "Given a string which contains only lowercase letters , remove 3 or more alike letters in sequence so that even after removing there are no 3 or more repeating letters in sequence. Repeat this process as many times as possible"
   ]
  },
  {
   "cell_type": "code",
   "execution_count": 1,
   "metadata": {},
   "outputs": [
    {
     "name": "stdout",
     "output_type": "stream",
     "text": [
      "abbvaasdfgffdfbb\n"
     ]
    }
   ],
   "source": [
    "str1 = 'abbvaasddddfgggffdddfbb'\n",
    "i = 0\n",
    "while True:\n",
    "    if i < len(str1) - 2:\n",
    "        last = len(str1)-1\n",
    "        mid_string = ''\n",
    "        if str1[i] == str1[i+1] and str1[i] == str1[i+2]:\n",
    "            while str1[last] == str1[i]:\n",
    "                last -= 1\n",
    "            mid_string = str1[i+1:last].strip(str1[i])\n",
    "            str1 = str1[0:i+1]+mid_string+str1[last:]\n",
    "        i+=1\n",
    "    else: \n",
    "        break\n",
    "\n",
    "print(str1)\n",
    "\n"
   ]
  },
  {
   "cell_type": "code",
   "execution_count": null,
   "metadata": {
    "collapsed": true
   },
   "outputs": [],
   "source": []
  }
 ],
 "metadata": {
  "kernelspec": {
   "display_name": "Python 3",
   "language": "python",
   "name": "python3"
  },
  "language_info": {
   "codemirror_mode": {
    "name": "ipython",
    "version": 3
   },
   "file_extension": ".py",
   "mimetype": "text/x-python",
   "name": "python",
   "nbconvert_exporter": "python",
   "pygments_lexer": "ipython3",
   "version": "3.5.0"
  }
 },
 "nbformat": 4,
 "nbformat_minor": 2
}
