{
 "cells": [
  {
   "cell_type": "code",
   "execution_count": 67,
   "metadata": {
    "collapsed": true
   },
   "outputs": [],
   "source": [
    "class Node(object):\n",
    "    def __init__(self, data=None):\n",
    "        self.value = data\n",
    "        self.leftchild = None\n",
    "        self.rightchild = None\n",
    "    \"\"\"    \n",
    "    def insert(self, data):\n",
    "        if self.value == data:\n",
    "            return False\n",
    "        elif data <= self.value:\n",
    "            if self.leftchild:\n",
    "                return self.leftchild.insert(data)\n",
    "            else:\n",
    "                self.leftchild = Node(data)\n",
    "                return True\n",
    "        \n",
    "        else:\n",
    "            if self.rightchild:\n",
    "                return self.rightchild.insert(data)\n",
    "            else:\n",
    "                self.rightchild = Node(data)\n",
    "            \n",
    "    def get_height(self):\n",
    "        if self.leftchild and self.rightchild:\n",
    "            return 1 + max(self.leftchild.get_height(), \n",
    "                           self.rightchild.get_height())\n",
    "        elif self.leftchild:\n",
    "            return 1 + self.leftchild.get_height()\n",
    "        elif self.rightchild:\n",
    "            return 1 + self.rightchild.get_height()\n",
    "        else:\n",
    "            return 1\n",
    "    \n",
    "    def search(self, data):\n",
    "        if self.value == data:\n",
    "            return True\n",
    "        elif data <= self.value:\n",
    "            if self.leftchild:\n",
    "                return self.leftchild.search(data)\n",
    "            else:\n",
    "                return False\n",
    "        else:\n",
    "            if self.rightchild:\n",
    "                return self.rightchild.search(data)\n",
    "            else:\n",
    "                return False\n",
    "            \n",
    "    def preorder(self):\n",
    "        if self:\n",
    "            print(str(self.value))\n",
    "            if self.leftchild:\n",
    "                self.leftchild.preorder()\n",
    "            if self.rightchild:\n",
    "                self.rightchild.preorder()\n",
    "            \n",
    "    def inorder(self):\n",
    "        if self:\n",
    "            if self.leftchild:\n",
    "                self.leftchild.inorder()\n",
    "            print(str(self.value))\n",
    "            if self.rightchild:\n",
    "                self.rightchild.inorder()\n",
    "        \n",
    "    def postorder(self):\n",
    "        if self:\n",
    "            if self.leftchild:\n",
    "                self.leftchild.postorder()\n",
    "            if self.rightchild:\n",
    "                self.rightchild.postorder()\n",
    "            print(str(self.value))\n",
    "     \"\"\"       \n"
   ]
  },
  {
   "cell_type": "code",
   "execution_count": 68,
   "metadata": {},
   "outputs": [],
   "source": [
    "class Binary_Search_Tree(object):\n",
    "    \"\"\"    \n",
    "    def insert(self, data):\n",
    "        if self.root is not None:\n",
    "            return self.root.insert(data)\n",
    "        else:\n",
    "            self.root = Node(data)\n",
    "            return\n",
    "    \n",
    "    def search(self, data):\n",
    "        if self.root is None:\n",
    "            return False\n",
    "        else:\n",
    "            self.root.search(data)\n",
    "            return\n",
    "    \n",
    "    def get_height(self):\n",
    "        if self.root is None:\n",
    "            return 0\n",
    "        else:\n",
    "            return self.root.get_height()\n",
    "            \n",
    "    def preorder(self):\n",
    "        if self.root is None:\n",
    "            return False\n",
    "        else:\n",
    "            self.root.preorder()\n",
    "            return\n",
    "    \n",
    "    def inorder(self):\n",
    "        if self.root is None:\n",
    "            return False\n",
    "        else:\n",
    "            self.root.inorder()\n",
    "            return\n",
    "    \n",
    "    def postorder(self):\n",
    "        if self.root is None:\n",
    "            return False\n",
    "        else:\n",
    "            self.root.postorder()\n",
    "            return\n",
    "    \n",
    "    \n",
    "    \"\"\"\n",
    "    def __init__(self):\n",
    "        self.root = None\n",
    "    \n",
    "    \n",
    "    def insert(self, root, data):\n",
    "        if root is None:\n",
    "            self.root = Node(data)\n",
    "            return\n",
    "        if root.value == data:\n",
    "            return False\n",
    "        if data < root.value:\n",
    "            if root.leftchild:\n",
    "                self.insert(root.leftchild, data)\n",
    "            else:\n",
    "                root.leftchild = Node(data)\n",
    "        elif data > root.value:\n",
    "            if root.rightchild:\n",
    "                self.insert(root.rightchild, data)\n",
    "            else:\n",
    "                root.rightchild = Node(data)\n",
    "    \n",
    "    def search(self, root, key):\n",
    "        if root is None:\n",
    "            return False\n",
    "        if key == root.value:\n",
    "            return True\n",
    "        if key < root.value:\n",
    "            if root.leftchild:\n",
    "                return self.search(root.leftchild, key)\n",
    "                \n",
    "            else:\n",
    "                return False\n",
    "        elif key > root.value:\n",
    "            if root.rightchild:\n",
    "                return self.search(root.rightchild, key)\n",
    "                                \n",
    "            else:\n",
    "                return False\n",
    "    \n",
    "    def get_height(self, root):\n",
    "        if root is None:\n",
    "            return 0\n",
    "        if root.leftchild and root.rightchild:\n",
    "            return 1 + max(self.get_height(root.leftchild),\n",
    "                          self.get_height(root.rightchild))\n",
    "        elif root.leftchild:\n",
    "            return 1 + self.get_height(root.leftchild)\n",
    "        elif root.rightchild:\n",
    "            return 1 + self.get_height(root.rightchild)\n",
    "        else:\n",
    "            return 1\n",
    "        \n",
    "    \n",
    "    def preorder(self, root):\n",
    "        if root is None:\n",
    "            return\n",
    "        else:\n",
    "            print(root.value)\n",
    "            if root.leftchild:\n",
    "                self.preorder(root.leftchild)               \n",
    "            if root.rightchild:\n",
    "                self.preorder(root.rightchild)                    \n",
    "    \n",
    "    def inorder(self, root):\n",
    "        if root is None:\n",
    "            return\n",
    "        else:\n",
    "            if root.leftchild:\n",
    "                self.inorder(root.leftchild)\n",
    "            print(root.value)\n",
    "            if root.rightchild:\n",
    "                self.inorder(root.rightchild)\n",
    "                    \n",
    "    \n",
    "    def postorder(self, root):\n",
    "        if root is None:\n",
    "            return\n",
    "        else:\n",
    "            if root.leftchild:\n",
    "                self.postorder(root.leftchild)\n",
    "            if root.rightchild:\n",
    "                self.postorder(root.rightchild)\n",
    "            print(root.value)\n",
    "    \n",
    "    \n",
    "    def MinValueNode(self, root):\n",
    "        curr_node = root\n",
    "        while curr_node.leftchild is not None:\n",
    "            curr_node = curr_node.leftchild\n",
    "        return curr_node\n",
    "    \n",
    "    \n",
    "    def Delete(self, root, value):\n",
    "        \n",
    "        if root is None:\n",
    "            return False\n",
    "        if value < root.value:\n",
    "            root.leftchild = bst.Delete(root.leftchild, value)\n",
    "        elif value > root.value:\n",
    "            root.rightchild = bst.Delete(root.rightchild, value)\n",
    "        else:\n",
    "            #1 child case\n",
    "            if root.leftchild is None:\n",
    "                temp = root.rightchild\n",
    "                root = None\n",
    "                return temp\n",
    "            if root.rightchild is None:\n",
    "                temp = root.leftchild\n",
    "                root = None\n",
    "                return temp\n",
    "            \n",
    "            #2 children case\n",
    "            temp = bst.MinValueNode(root.rightchild)\n",
    "            root.value = temp.value\n",
    "            root.rightchild = bst.Delete(root.rightchild, temp.value)\n",
    "        return root"
   ]
  },
  {
   "cell_type": "code",
   "execution_count": 69,
   "metadata": {},
   "outputs": [],
   "source": [
    "bst = Binary_Search_Tree()\n",
    "bst.insert(bst.root, 7)\n",
    "bst.insert(bst.root,5)\n",
    "bst.insert(bst.root,10)\n",
    "bst.insert(bst.root,4)\n",
    "bst.insert(bst.root,6)\n",
    "bst.insert(bst.root,9)\n",
    "bst.insert(bst.root,15)\n",
    "#bst.insert(18)"
   ]
  },
  {
   "cell_type": "code",
   "execution_count": 70,
   "metadata": {},
   "outputs": [
    {
     "data": {
      "text/plain": [
       "True"
      ]
     },
     "execution_count": 70,
     "metadata": {},
     "output_type": "execute_result"
    }
   ],
   "source": [
    "bst.search(bst.root, 4)"
   ]
  },
  {
   "cell_type": "code",
   "execution_count": 71,
   "metadata": {},
   "outputs": [
    {
     "name": "stdout",
     "output_type": "stream",
     "text": [
      "4\n",
      "6\n",
      "5\n",
      "9\n",
      "15\n",
      "10\n",
      "7\n"
     ]
    }
   ],
   "source": [
    "bst.postorder(bst.root)"
   ]
  },
  {
   "cell_type": "code",
   "execution_count": 16,
   "metadata": {},
   "outputs": [
    {
     "data": {
      "text/plain": [
       "<__main__.Node at 0x106204ba8>"
      ]
     },
     "execution_count": 16,
     "metadata": {},
     "output_type": "execute_result"
    }
   ],
   "source": [
    "bst.Delete(bst.root, 15)"
   ]
  },
  {
   "cell_type": "code",
   "execution_count": 6,
   "metadata": {},
   "outputs": [
    {
     "name": "stdout",
     "output_type": "stream",
     "text": [
      "4\n",
      "6\n",
      "5\n",
      "9\n",
      "15\n",
      "10\n",
      "7\n"
     ]
    }
   ],
   "source": [
    "bst.postorder()"
   ]
  },
  {
   "cell_type": "code",
   "execution_count": 6,
   "metadata": {},
   "outputs": [
    {
     "data": {
      "text/plain": [
       "97"
      ]
     },
     "execution_count": 6,
     "metadata": {},
     "output_type": "execute_result"
    }
   ],
   "source": [
    "ord('a')"
   ]
  },
  {
   "cell_type": "code",
   "execution_count": null,
   "metadata": {
    "collapsed": true
   },
   "outputs": [],
   "source": []
  }
 ],
 "metadata": {
  "kernelspec": {
   "display_name": "Python 3",
   "language": "python",
   "name": "python3"
  },
  "language_info": {
   "codemirror_mode": {
    "name": "ipython",
    "version": 3
   },
   "file_extension": ".py",
   "mimetype": "text/x-python",
   "name": "python",
   "nbconvert_exporter": "python",
   "pygments_lexer": "ipython3",
   "version": "3.5.0"
  }
 },
 "nbformat": 4,
 "nbformat_minor": 2
}
