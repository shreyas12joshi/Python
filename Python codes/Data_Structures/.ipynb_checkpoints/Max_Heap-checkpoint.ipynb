{
 "cells": [
  {
   "cell_type": "code",
   "execution_count": 34,
   "metadata": {
    "collapsed": true
   },
   "outputs": [],
   "source": [
    "class MaxHeap(object):\n",
    "    def __init__(self, items = []):\n",
    "        self.heap = [0]\n",
    "        for item in items:\n",
    "            self.heap.append(item)\n",
    "            self.ShiftUp(len(self.heap)-1)\n",
    "    \n",
    "    def push(self, item):\n",
    "        if len(self.heap) == 0:\n",
    "            self.heap.append(item)\n",
    "            return\n",
    "        self.heap.append(item)\n",
    "        self.ShiftUp(len(self.heap)-1)\n",
    "    \n",
    "    def swap(self, i,j):\n",
    "        self.heap[i], self.heap[j] = self.heap[j], self.heap[i]\n",
    "        return\n",
    "    \n",
    "    def ShiftUp(self, index):\n",
    "        parent = index // 2\n",
    "        if index <= 1:\n",
    "            return\n",
    "        elif self.heap[index] > self.heap[parent]:\n",
    "            self.swap(index, parent)\n",
    "            self.ShiftUp(parent)\n",
    "    \n",
    "    def pop(self):\n",
    "        if len(self.heap) == 0:\n",
    "            return False\n",
    "        self.swap(1, len(self.heap)-1)\n",
    "        self.heap.pop()\n",
    "        self.ShiftDown(1)\n",
    "    \n",
    "    def ShiftDown(self, index):\n",
    "        left = index * 2\n",
    "        right = left + 1\n",
    "        largest = index\n",
    "        \n",
    "        if len(self.heap) > left and self.heap[index] < self.heap[left]:\n",
    "            largest = left\n",
    "        if len(self.heap) > right and self.heap[index] < self.heap[right]:\n",
    "            largest = right\n",
    "        if largest != index:\n",
    "            self.swap(index, largest)\n",
    "            self.ShiftDown(largest)\n",
    "            \n",
    "        \n",
    "    def peek(self):\n",
    "        if len(self.heap) == 0:\n",
    "            return False\n",
    "        return self.heap[1]    \n",
    "            "
   ]
  },
  {
   "cell_type": "code",
   "execution_count": 35,
   "metadata": {},
   "outputs": [],
   "source": [
    "m = MaxHeap([4,23,21,33,95])\n",
    "m.push(50)"
   ]
  },
  {
   "cell_type": "code",
   "execution_count": 36,
   "metadata": {},
   "outputs": [
    {
     "data": {
      "text/plain": [
       "[0, 95, 33, 50, 4, 23, 21]"
      ]
     },
     "execution_count": 36,
     "metadata": {},
     "output_type": "execute_result"
    }
   ],
   "source": [
    "m.heap"
   ]
  },
  {
   "cell_type": "code",
   "execution_count": 37,
   "metadata": {
    "collapsed": true
   },
   "outputs": [],
   "source": [
    "m.pop()"
   ]
  },
  {
   "cell_type": "code",
   "execution_count": 38,
   "metadata": {},
   "outputs": [
    {
     "data": {
      "text/plain": [
       "[0, 50, 33, 21, 4, 23]"
      ]
     },
     "execution_count": 38,
     "metadata": {},
     "output_type": "execute_result"
    }
   ],
   "source": [
    "m.heap"
   ]
  },
  {
   "cell_type": "code",
   "execution_count": 39,
   "metadata": {},
   "outputs": [
    {
     "name": "stdout",
     "output_type": "stream",
     "text": [
      "50\n"
     ]
    }
   ],
   "source": [
    "print(m.peek())"
   ]
  },
  {
   "cell_type": "code",
   "execution_count": null,
   "metadata": {
    "collapsed": true
   },
   "outputs": [],
   "source": []
  }
 ],
 "metadata": {
  "kernelspec": {
   "display_name": "Python 3",
   "language": "python",
   "name": "python3"
  },
  "language_info": {
   "codemirror_mode": {
    "name": "ipython",
    "version": 3
   },
   "file_extension": ".py",
   "mimetype": "text/x-python",
   "name": "python",
   "nbconvert_exporter": "python",
   "pygments_lexer": "ipython3",
   "version": "3.5.0"
  }
 },
 "nbformat": 4,
 "nbformat_minor": 2
}
