{
 "cells": [
  {
   "cell_type": "markdown",
   "metadata": {},
   "source": [
    "# Stacks using lists\n",
    "---\n",
    "Implement stacks without using in-built functions."
   ]
  },
  {
   "cell_type": "code",
   "execution_count": 25,
   "metadata": {},
   "outputs": [],
   "source": [
    "class stacks(object):\n",
    "    def __init__(self):\n",
    "        self.stack = []\n",
    "        self.size = 0\n",
    "        \n",
    "    def push(self, data):\n",
    "        self.stack.append(data)\n",
    "        self.size += 1\n",
    "        \n",
    "    def pop(self):\n",
    "        if self.size > 0:\n",
    "            del self.stack[self.size-1]\n",
    "            self.size -= 1\n",
    "            return\n",
    "        else:\n",
    "            print('Stack is empty')\n",
    "            return\n",
    "    \n",
    "    def is_empty(self):\n",
    "        return (self.size == 0)\n",
    "        \n",
    "    def display(self):\n",
    "        if self.size > 0:\n",
    "            for i in range(len(self.stack)-1,-1,-1):\n",
    "                print(self.stack[i])\n",
    "        else:\n",
    "            print('Stack is empty')\n",
    "        "
   ]
  },
  {
   "cell_type": "code",
   "execution_count": 26,
   "metadata": {},
   "outputs": [
    {
     "name": "stdout",
     "output_type": "stream",
     "text": [
      "9\n",
      "3\n",
      "1\n"
     ]
    }
   ],
   "source": [
    "s = stacks()\n",
    "s.push(1)\n",
    "s.push(3)\n",
    "s.push(9)\n",
    "s.display()"
   ]
  },
  {
   "cell_type": "code",
   "execution_count": 21,
   "metadata": {},
   "outputs": [
    {
     "name": "stdout",
     "output_type": "stream",
     "text": [
      "1\n"
     ]
    }
   ],
   "source": [
    "s.pop()\n",
    "s.pop()\n",
    "s.display()"
   ]
  },
  {
   "cell_type": "code",
   "execution_count": null,
   "metadata": {
    "collapsed": true
   },
   "outputs": [],
   "source": []
  }
 ],
 "metadata": {
  "kernelspec": {
   "display_name": "Python 3",
   "language": "python",
   "name": "python3"
  },
  "language_info": {
   "codemirror_mode": {
    "name": "ipython",
    "version": 3
   },
   "file_extension": ".py",
   "mimetype": "text/x-python",
   "name": "python",
   "nbconvert_exporter": "python",
   "pygments_lexer": "ipython3",
   "version": "3.5.0"
  }
 },
 "nbformat": 4,
 "nbformat_minor": 2
}
