{
 "cells": [
  {
   "cell_type": "code",
   "execution_count": 35,
   "metadata": {
    "collapsed": true
   },
   "outputs": [],
   "source": [
    "class Node(object):\n",
    "    def __init__(self, data, n=None):\n",
    "        self.data = data\n",
    "        self.next_node = n\n",
    "        \n",
    "class LinkedList(object):\n",
    "    def __init__(self):\n",
    "        self.root = None\n",
    "        self.size = 0\n",
    "        \n",
    "    def add(self, data):\n",
    "        new_node = Node(data, self.root)\n",
    "        self.root = new_node\n",
    "        self.size += 1\n",
    "        \n",
    "    def display(self):\n",
    "        curr_node = self.root\n",
    "        if curr_node==None:\n",
    "            print('No data in the list')\n",
    "            return\n",
    "        while curr_node != None:\n",
    "            print(curr_node.data, end=\" \")\n",
    "            curr_node = curr_node.next_node        \n",
    "       # print('\\nlist size {}'.format(self.size))\n",
    "        return\n",
    "            \n",
    "    def search(self, data):\n",
    "        curr_node = self.root\n",
    "        found = False\n",
    "        while curr_node != None and not found:\n",
    "            if curr_node.data == data:\n",
    "                found = True\n",
    "            else:\n",
    "                curr_node = curr_node.next_node\n",
    "        return found\n",
    "    \n",
    "    \n",
    "    def remove(self, data):\n",
    "        prev_node = self.root\n",
    "        curr_node = prev_node.next_node\n",
    "        while curr_node!=None:\n",
    "            if prev_node.data == data:\n",
    "                self.root = curr_node\n",
    "                print('{} removed'.format(data))\n",
    "                self.size -= 1\n",
    "                return\n",
    "            elif curr_node.data == data:\n",
    "                prev_node.next_node = curr_node.next_node\n",
    "                print('{} removed'.format(data)) \n",
    "                self.size -= 1\n",
    "                return\n",
    "            prev_node = curr_node\n",
    "            curr_node = curr_node.next_node\n",
    "        print('Not found')\n",
    "        \n",
    "    \n",
    "    def InsertNth(self, data, position):\n",
    "        curr_node = self.root\n",
    "        if self.size < position:\n",
    "            print('Index greater than the size of list')\n",
    "            return\n",
    "        if position == 0:\n",
    "            self.root = Node(data, self.root)\n",
    "            return\n",
    "        while position>1:\n",
    "            curr_node = curr_node.next_node\n",
    "            position -= 1\n",
    "        curr_node.next_node = Node(data, curr_node.next_node)\n",
    "        self.size += 1\n",
    "        return\n",
    "    \n",
    "    def Reverse(self):\n",
    "        prev_node = None\n",
    "        curr_node = self.root\n",
    "        if self.root == None:\n",
    "            return\n",
    "        while curr_node != None:\n",
    "            temp = curr_node.next_node\n",
    "            curr_node.next_node = prev_node\n",
    "            prev_node = curr_node\n",
    "            curr_node = temp\n",
    "        self.root = prev_node\n",
    "        return\n",
    "    \n",
    "    def Reverse_rec(self, head): #recursively reverses the linked list\n",
    "        curr_node = head\n",
    "        if head == None or curr_node.next_node == None:\n",
    "            self.root = curr_node\n",
    "            return\n",
    "        self.Reverse_rec(curr_node.next_node)\n",
    "        curr_node.next_node.next_node = curr_node\n",
    "        curr_node.next_node = None\n",
    "        return\n",
    "    \n",
    "    \n",
    "    \n",
    "    \"\"\"\n",
    "    \n",
    "    Problem 2.1 CTCI \n",
    "    Remove the duplicates from an unsorted Linked List\n",
    "    \n",
    "    \"\"\"\n",
    "    def remove_duplicate(self):\n",
    "        curr_node = self.root\n",
    "        prev = None\n",
    "        dict1 = {}\n",
    "        if curr_node is None:\n",
    "            return False\n",
    "        while curr_node:\n",
    "            if curr_node.data not in dict1:\n",
    "                dict1[curr_node.data] = curr_node.data\n",
    "                prev = curr_node\n",
    "                curr_node = curr_node.next_node\n",
    "            else:\n",
    "                prev.next_node = curr_node.next_node\n",
    "                curr_node = curr_node.next_node\n",
    "                self.size -= 1\n",
    "                \n",
    "        return\n",
    "    \n",
    "    def partion_LinkedList(self, partion):\n",
    "        curr = self.head\n",
    "        curr_left_head = None\n",
    "        curr_right_head = None\n",
    "        \n",
    "        \n",
    "        if curr.data > partition:\n",
    "            new_node = Node(data, None)\n",
    "            if curr_right_head is None:\n",
    "                curr_right_head = new_node\n",
    "            else:\n",
    "                \n",
    "        \n",
    "                \n",
    "        \n",
    "                \n"
   ]
  },
  {
   "cell_type": "code",
   "execution_count": null,
   "metadata": {
    "collapsed": true
   },
   "outputs": [],
   "source": []
  },
  {
   "cell_type": "code",
   "execution_count": 36,
   "metadata": {},
   "outputs": [
    {
     "name": "stdout",
     "output_type": "stream",
     "text": [
      "7 4 2 4 3 2 "
     ]
    }
   ],
   "source": [
    "mylist = LinkedList()\n",
    "mylist.add(2)\n",
    "mylist.add(3)\n",
    "mylist.add(4)\n",
    "mylist.add(2)\n",
    "mylist.add(4)\n",
    "mylist.add(7)\n",
    "mylist.display()"
   ]
  },
  {
   "cell_type": "code",
   "execution_count": 37,
   "metadata": {},
   "outputs": [
    {
     "name": "stdout",
     "output_type": "stream",
     "text": [
      "7 4 2 3 "
     ]
    }
   ],
   "source": [
    "mylist.remove_duplicate()\n",
    "mylist.display()"
   ]
  },
  {
   "cell_type": "code",
   "execution_count": 34,
   "metadata": {},
   "outputs": [],
   "source": [
    "#mylist.display()\n",
    "#head = mylist.root\n",
    "#mylist.Reverse_rec(head)"
   ]
  },
  {
   "cell_type": "code",
   "execution_count": 122,
   "metadata": {},
   "outputs": [
    {
     "name": "stdout",
     "output_type": "stream",
     "text": [
      "6\n",
      "5\n",
      "4\n",
      "80\n",
      "3\n",
      "2\n",
      "list size 6\n"
     ]
    }
   ],
   "source": [
    "mylist.InsertNth(80, 3)\n",
    "mylist.display()"
   ]
  },
  {
   "cell_type": "code",
   "execution_count": 123,
   "metadata": {
    "collapsed": true
   },
   "outputs": [],
   "source": [
    "mylist.Reverse()"
   ]
  }
 ],
 "metadata": {
  "kernelspec": {
   "display_name": "Python 3",
   "language": "python",
   "name": "python3"
  },
  "language_info": {
   "codemirror_mode": {
    "name": "ipython",
    "version": 3
   },
   "file_extension": ".py",
   "mimetype": "text/x-python",
   "name": "python",
   "nbconvert_exporter": "python",
   "pygments_lexer": "ipython3",
   "version": "3.5.0"
  }
 },
 "nbformat": 4,
 "nbformat_minor": 2
}
