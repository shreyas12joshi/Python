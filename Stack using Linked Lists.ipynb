{
 "cells": [
  {
   "cell_type": "markdown",
   "metadata": {},
   "source": [
    "# Stacks using Linked Lists\n",
    "---\n",
    "Implement stacks using Linked Lists"
   ]
  },
  {
   "cell_type": "code",
   "execution_count": 1,
   "metadata": {
    "collapsed": true
   },
   "outputs": [],
   "source": [
    "class Node(object):\n",
    "    def __init__(self, data, n = None):\n",
    "        self.value = data\n",
    "        self.next = n\n",
    "        \n",
    "class stack(object):\n",
    "    def __init__(self):\n",
    "        self.head = None\n",
    "        self.size = 0\n",
    "        \n",
    "    def push(self, data):\n",
    "        new_node = Node(data, self.head)\n",
    "        self.head = new_node\n",
    "        \n",
    "    def pop(self):\n",
    "        self.head = self.head.next\n",
    "        \n",
    "    def display(self):\n",
    "        curr = self.head\n",
    "        if curr is None:\n",
    "            print('Empty list')\n",
    "            return\n",
    "        while curr:\n",
    "            print(curr.value)\n",
    "            curr = curr.next\n",
    "        \n",
    "    def stack_size(self):\n",
    "        curr = self.head\n",
    "        size = 0\n",
    "        if curr is None:\n",
    "            print(size)\n",
    "            return size\n",
    "        while curr:\n",
    "            size += 1\n",
    "            \n",
    "        print(size)\n",
    "        return size\n",
    "    \n",
    "    def is_empty(self):\n",
    "        return (self.head is None)   "
   ]
  },
  {
   "cell_type": "code",
   "execution_count": 2,
   "metadata": {
    "collapsed": true
   },
   "outputs": [],
   "source": [
    "s = stack()\n",
    "s.push(5)\n",
    "s.push(3)\n",
    "s.push(7)\n",
    "s.push(6)"
   ]
  },
  {
   "cell_type": "code",
   "execution_count": 3,
   "metadata": {},
   "outputs": [
    {
     "name": "stdout",
     "output_type": "stream",
     "text": [
      "6\n",
      "7\n",
      "3\n",
      "5\n"
     ]
    }
   ],
   "source": [
    "s.display()"
   ]
  },
  {
   "cell_type": "code",
   "execution_count": 4,
   "metadata": {},
   "outputs": [
    {
     "name": "stdout",
     "output_type": "stream",
     "text": [
      "7\n",
      "3\n",
      "5\n"
     ]
    }
   ],
   "source": [
    "s.pop()\n",
    "s.display()"
   ]
  },
  {
   "cell_type": "code",
   "execution_count": null,
   "metadata": {},
   "outputs": [],
   "source": []
  },
  {
   "cell_type": "code",
   "execution_count": null,
   "metadata": {
    "collapsed": true
   },
   "outputs": [],
   "source": []
  }
 ],
 "metadata": {
  "kernelspec": {
   "display_name": "Python 3",
   "language": "python",
   "name": "python3"
  },
  "language_info": {
   "codemirror_mode": {
    "name": "ipython",
    "version": 3
   },
   "file_extension": ".py",
   "mimetype": "text/x-python",
   "name": "python",
   "nbconvert_exporter": "python",
   "pygments_lexer": "ipython3",
   "version": "3.5.0"
  }
 },
 "nbformat": 4,
 "nbformat_minor": 2
}
