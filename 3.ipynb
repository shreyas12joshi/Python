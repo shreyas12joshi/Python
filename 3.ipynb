{
 "cells": [
  {
   "cell_type": "code",
   "execution_count": 11,
   "metadata": {
    "collapsed": false
   },
   "outputs": [],
   "source": [
    "import pandas_datareader.data as web\n",
    "import pandas as pd\n",
    "import numpy as np\n",
    "import statsmodels as sm\n",
    "from statsmodels.tsa.arima_model import ARIMA\n",
    "import datetime as dt\n",
    "sdt = dt.datetime(2000, 1, 1)\n",
    "edt = dt.datetime(2015, 9, 1)\n",
    "\n",
    "GDPC1 = web.DataReader(\"GDPC1\", \"fred\", sdt, edt)"
   ]
  },
  {
   "cell_type": "code",
   "execution_count": 12,
   "metadata": {
    "collapsed": false
   },
   "outputs": [],
   "source": [
    "\n",
    "model = ARIMA(GDPC1, order=(5,1,0))"
   ]
  },
  {
   "cell_type": "code",
   "execution_count": 13,
   "metadata": {
    "collapsed": true
   },
   "outputs": [],
   "source": [
    "model_fit = model.fit(disp=0)"
   ]
  },
  {
   "cell_type": "code",
   "execution_count": 14,
   "metadata": {
    "collapsed": false
   },
   "outputs": [
    {
     "name": "stdout",
     "output_type": "stream",
     "text": [
      "                             ARIMA Model Results                              \n",
      "==============================================================================\n",
      "Dep. Variable:                D.GDPC1   No. Observations:                   62\n",
      "Model:                 ARIMA(5, 1, 0)   Log Likelihood                -362.475\n",
      "Method:                       css-mle   S.D. of innovations             83.567\n",
      "Date:                Mon, 14 Aug 2017   AIC                            738.951\n",
      "Time:                        15:02:28   BIC                            753.841\n",
      "Sample:                    04-01-2000   HQIC                           744.797\n",
      "                         - 07-01-2015                                         \n",
      "=================================================================================\n",
      "                    coef    std err          z      P>|z|      [0.025      0.975]\n",
      "---------------------------------------------------------------------------------\n",
      "const            68.6953     17.405      3.947      0.000      34.582     102.809\n",
      "ar.L1.D.GDPC1     0.3425      0.130      2.625      0.011       0.087       0.598\n",
      "ar.L2.D.GDPC1     0.1174      0.139      0.846      0.401      -0.155       0.389\n",
      "ar.L3.D.GDPC1     0.0074      0.139      0.054      0.957      -0.264       0.279\n",
      "ar.L4.D.GDPC1     0.0046      0.140      0.033      0.974      -0.270       0.279\n",
      "ar.L5.D.GDPC1    -0.0803      0.132     -0.609      0.545      -0.339       0.178\n",
      "                                    Roots                                    \n",
      "=============================================================================\n",
      "                 Real           Imaginary           Modulus         Frequency\n",
      "-----------------------------------------------------------------------------\n",
      "AR.1            1.3491           -0.6475j            1.4965           -0.0712\n",
      "AR.2            1.3491           +0.6475j            1.4965            0.0712\n",
      "AR.3           -1.7283           -0.0000j            1.7283           -0.5000\n",
      "AR.4           -0.4564           -1.7345j            1.7935           -0.2909\n",
      "AR.5           -0.4564           +1.7345j            1.7935            0.2909\n",
      "-----------------------------------------------------------------------------\n"
     ]
    }
   ],
   "source": [
    "print(model_fit.summary())"
   ]
  },
  {
   "cell_type": "code",
   "execution_count": null,
   "metadata": {
    "collapsed": true
   },
   "outputs": [],
   "source": []
  }
 ],
 "metadata": {
  "kernelspec": {
   "display_name": "Python 3",
   "language": "python",
   "name": "python3"
  },
  "language_info": {
   "codemirror_mode": {
    "name": "ipython",
    "version": 3
   },
   "file_extension": ".py",
   "mimetype": "text/x-python",
   "name": "python",
   "nbconvert_exporter": "python",
   "pygments_lexer": "ipython3",
   "version": "3.6.0"
  }
 },
 "nbformat": 4,
 "nbformat_minor": 2
}
