{
 "cells": [
  {
   "cell_type": "code",
   "execution_count": 21,
   "metadata": {
    "collapsed": true
   },
   "outputs": [],
   "source": [
    "def str_to_int(str):\n",
    "    \n",
    "    if not str:\n",
    "        print('hi')\n",
    "        return 0\n",
    "    int_min = -2**31\n",
    "    int_max = 2**31\n",
    "    \n",
    "    i = result = 0\n",
    "    while i < len(str) and str[i] == ' ':\n",
    "        i += 1\n",
    "    \n",
    "    if i == len(str):\n",
    "        return result\n",
    "    sign = 1\n",
    "    if str[i] == '+':\n",
    "        sign = 1\n",
    "        i += 1\n",
    "    elif str[i] == '-':\n",
    "        sign = -1\n",
    "        i += 1\n",
    "    \n",
    "    while i < len(str) and str[i].isdigit():\n",
    "        result = result*10 + int(str[i])\n",
    "        if result > int_max:\n",
    "            return int_max if sign > 0 else int_min               \n",
    "        i += 1\n",
    "    return sign*result\n",
    "        "
   ]
  },
  {
   "cell_type": "code",
   "execution_count": 34,
   "metadata": {},
   "outputs": [
    {
     "name": "stdout",
     "output_type": "stream",
     "text": [
      "3\n"
     ]
    }
   ],
   "source": [
    "str = ' 3a32 hey'\n",
    "result_int = str_to_int(str)\n",
    "print(result_int)"
   ]
  },
  {
   "cell_type": "code",
   "execution_count": null,
   "metadata": {
    "collapsed": true
   },
   "outputs": [],
   "source": []
  }
 ],
 "metadata": {
  "kernelspec": {
   "display_name": "Python 3",
   "language": "python",
   "name": "python3"
  },
  "language_info": {
   "codemirror_mode": {
    "name": "ipython",
    "version": 3
   },
   "file_extension": ".py",
   "mimetype": "text/x-python",
   "name": "python",
   "nbconvert_exporter": "python",
   "pygments_lexer": "ipython3",
   "version": "3.5.0"
  }
 },
 "nbformat": 4,
 "nbformat_minor": 2
}
