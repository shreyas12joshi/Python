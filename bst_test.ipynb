{
 "cells": [
  {
   "cell_type": "code",
   "execution_count": 87,
   "metadata": {},
   "outputs": [],
   "source": [
    "class Node(object):\n",
    "    def __init__(self, data):\n",
    "        self.val = data\n",
    "        self.leftchild = None\n",
    "        self.rightchild = None\n",
    "\n",
    "class BST(object):\n",
    "    def __init__(self):\n",
    "        self.root = None\n",
    "        \n",
    "    def insert(self, root, value):\n",
    "        if self.root is None:\n",
    "            self.root = Node(value)\n",
    "            return\n",
    "        if value == root.val:\n",
    "            return False\n",
    "        elif value < root.val:\n",
    "            if root.leftchild:\n",
    "                self.insert(root.leftchild, value)\n",
    "            else:\n",
    "                root.leftchild = Node(value)\n",
    "                return\n",
    "        else:\n",
    "            if root.rightchild:\n",
    "                self.insert(root.rightchild, value)\n",
    "            else:\n",
    "                root.rightchild = Node(value)\n",
    "                return\n",
    "        \n",
    "    def inorder(self, root):\n",
    "        if self.root is None:\n",
    "            return None\n",
    "        if root.leftchild:\n",
    "            self.inorder(root.leftchild)\n",
    "        print(root.val)\n",
    "        if root.rightchild:\n",
    "            self.inorder(root.rightchild)\n",
    "    \n",
    "    def preorder(self, root):\n",
    "        if self.root is None:\n",
    "            return None\n",
    "        print(root.val)\n",
    "        if root.leftchild:\n",
    "            self.preorder(root.leftchild)\n",
    "        if root.rightchild:\n",
    "            self.preorder(root.rightchild)\n",
    "            \n",
    "    def postorder(self, root):\n",
    "        if self.root is None:\n",
    "            return None\n",
    "        if root.leftchild:\n",
    "            self.postorder(root.leftchild)\n",
    "        if root.rightchild:\n",
    "            self.postorder(root.rightchild)\n",
    "        print(root.val)\n",
    "        \n",
    "    def get_height(self, root):\n",
    "        if root is None:\n",
    "            return 0\n",
    "        if root.leftchild and root.rightchild:\n",
    "            return 1 + max(self.get_height(root.leftchild),\n",
    "                          self.get_height(root.rightchild))\n",
    "        elif root.leftchild:\n",
    "            return 1 + self.get_height(root.leftchild)\n",
    "        elif root.rightchild:\n",
    "            return 1 + self.get_height(root.rightchild)\n",
    "        else:\n",
    "            return 1\n",
    "        \n",
    "    def search(self, root, key):\n",
    "        if root is None:\n",
    "            return False\n",
    "        if key == root.val:\n",
    "            return True\n",
    "        elif key < root.val:\n",
    "            if root.leftchild:\n",
    "                return self.search(root.leftchild, key)\n",
    "            else:\n",
    "                return False\n",
    "        elif key > root.val:\n",
    "            if root.rightchild:\n",
    "                return self.search(root.rightchild, key)\n",
    "            else:\n",
    "                return False\n",
    "        else:\n",
    "            return False\n",
    "    \n",
    "    def MinValueNode(self, root):\n",
    "        curr_node = root\n",
    "        while curr_node.leftchild is not None:\n",
    "            curr_node = curr_node.leftchild\n",
    "        return curr_node\n",
    "    \n",
    "    def delete(self, root, key):\n",
    "        if root is None:\n",
    "            return root\n",
    "        if key < root.val:\n",
    "            root.leftchild = self.delete(root.leftchild, key)\n",
    "        elif key > root.val:\n",
    "            root.rightchild = self.delete(root.rightchild, key)\n",
    "        else:\n",
    "            if root.leftchild is None:\n",
    "                temp = root.rightchild\n",
    "                root = None\n",
    "                return temp\n",
    "            if root.rightchild is None:\n",
    "                temp = root.leftchild\n",
    "                root = None\n",
    "                return temp\n",
    "            temp = bst.MinValueNode(root.rightchild)\n",
    "            root.val = temp.val\n",
    "            root.rightchild = self.delete(root.rightchild, temp.val)\n",
    "        return root\n",
    "    "
   ]
  },
  {
   "cell_type": "code",
   "execution_count": 88,
   "metadata": {},
   "outputs": [],
   "source": [
    "bst = BST()\n",
    "bst.insert(bst.root, 7)\n",
    "bst.insert(bst.root,5)\n",
    "bst.insert(bst.root,10)\n",
    "bst.insert(bst.root,4)\n",
    "bst.insert(bst.root,6)\n",
    "bst.insert(bst.root,9)\n",
    "bst.insert(bst.root,15)\n",
    "bst.insert(bst.root,17)"
   ]
  },
  {
   "cell_type": "code",
   "execution_count": 89,
   "metadata": {},
   "outputs": [
    {
     "name": "stdout",
     "output_type": "stream",
     "text": [
      "4\n",
      "5\n",
      "6\n",
      "7\n",
      "9\n",
      "10\n",
      "15\n",
      "17\n"
     ]
    }
   ],
   "source": [
    "#print(bst.search(bst.root, 2))\n",
    "bst.inorder(bst.root)"
   ]
  },
  {
   "cell_type": "code",
   "execution_count": 91,
   "metadata": {},
   "outputs": [
    {
     "name": "stdout",
     "output_type": "stream",
     "text": [
      "4\n",
      "5\n",
      "6\n",
      "9\n",
      "10\n",
      "15\n",
      "17\n"
     ]
    }
   ],
   "source": [
    "bst.delete(bst.root, 7)\n",
    "bst.inorder(bst.root)"
   ]
  },
  {
   "cell_type": "code",
   "execution_count": null,
   "metadata": {
    "collapsed": true
   },
   "outputs": [],
   "source": []
  }
 ],
 "metadata": {
  "kernelspec": {
   "display_name": "Python 3",
   "language": "python",
   "name": "python3"
  },
  "language_info": {
   "codemirror_mode": {
    "name": "ipython",
    "version": 3
   },
   "file_extension": ".py",
   "mimetype": "text/x-python",
   "name": "python",
   "nbconvert_exporter": "python",
   "pygments_lexer": "ipython3",
   "version": "3.5.0"
  }
 },
 "nbformat": 4,
 "nbformat_minor": 2
}
