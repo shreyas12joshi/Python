{
 "cells": [
  {
   "cell_type": "code",
   "execution_count": 12,
   "metadata": {
    "collapsed": true
   },
   "outputs": [],
   "source": [
    "a = [-5,2,3,7,1,4]"
   ]
  },
  {
   "cell_type": "code",
   "execution_count": 13,
   "metadata": {},
   "outputs": [
    {
     "name": "stdout",
     "output_type": "stream",
     "text": [
      "Largest Element 7\n",
      "Second Largest Element 3\n"
     ]
    }
   ],
   "source": [
    "max2 = float('-Inf')\n",
    "max1 = float('-Inf')\n",
    "for i in range(len(a)):\n",
    "    if a[i] > max1:\n",
    "        max2 = max1\n",
    "        max1 = a[i]\n",
    "    if max1 < a[i] and a[i] < max2:        \n",
    "        max1 = a[i]\n",
    "print('Largest Element {}'.format(max1))\n",
    "print('Second Largest Element {}'.format(max2))"
   ]
  },
  {
   "cell_type": "code",
   "execution_count": null,
   "metadata": {
    "collapsed": true
   },
   "outputs": [],
   "source": []
  }
 ],
 "metadata": {
  "kernelspec": {
   "display_name": "Python 3",
   "language": "python",
   "name": "python3"
  },
  "language_info": {
   "codemirror_mode": {
    "name": "ipython",
    "version": 3
   },
   "file_extension": ".py",
   "mimetype": "text/x-python",
   "name": "python",
   "nbconvert_exporter": "python",
   "pygments_lexer": "ipython3",
   "version": "3.5.0"
  }
 },
 "nbformat": 4,
 "nbformat_minor": 2
}
