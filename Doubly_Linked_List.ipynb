{
 "cells": [
  {
   "cell_type": "code",
   "execution_count": 98,
   "metadata": {
    "collapsed": true
   },
   "outputs": [],
   "source": [
    "class Node(object):\n",
    "    def __init__(self, data, next_node=None, prev_node=None):\n",
    "        self.value = data\n",
    "        self.next = next_node\n",
    "        self.prev = prev_node\n",
    "        \n",
    "class DoublyLinkedList(object):\n",
    "    def __init__(self):\n",
    "        self.head = None\n",
    "        self.tail = None\n",
    "        self.size = 0\n",
    "        \n",
    "    def add(self, data):\n",
    "        new_node = Node(data, None, None)\n",
    "        if self.head is None:            \n",
    "            self.head = self.tail = new_node\n",
    "            self.size += 1\n",
    "        else:\n",
    "            self.tail.next = new_node\n",
    "            new_node.prev = self.tail\n",
    "            self.tail = new_node\n",
    "            self.size += 1\n",
    "        \n",
    "    def search(self, data):\n",
    "        curr = self.head\n",
    "        if curr is None:\n",
    "            return False\n",
    "        while curr:\n",
    "            if curr.value == data:\n",
    "                return True\n",
    "            curr = curr.next\n",
    "        return False\n",
    "    \n",
    "    def display(self):\n",
    "        curr = self.head\n",
    "        while curr:\n",
    "            print(curr.value, end=\" \")\n",
    "            curr = curr.next\n",
    "        \n",
    "        \n",
    "        \n",
    "    def remove(self, data):\n",
    "        curr = self.head\n",
    "        prev = None\n",
    "        if self.head is None:\n",
    "            return False\n",
    "        if self.head.value == data:\n",
    "            self.head = self.head.next\n",
    "            return\n",
    "        while curr.next:\n",
    "            if curr.value == data:\n",
    "                prev.next = curr.next\n",
    "                curr.next.prev = prev\n",
    "                self.size -= 1\n",
    "                return   \n",
    "            prev = curr\n",
    "            curr = curr.next\n",
    "        if self.tail.value == data:\n",
    "            self.tail = prev\n",
    "            self.tail.next = None\n",
    "            self.size -= 1\n",
    "            \n",
    "    def insert(self, data, position):\n",
    "        curr = self.head\n",
    "        if position > self.size:\n",
    "            return False\n",
    "        if curr is None:\n",
    "            return False\n",
    "        if position == 0:\n",
    "            new_node = Node(data, self.head, None)\n",
    "            self.head = new_node\n",
    "            return\n",
    "        while position > 1:\n",
    "            curr = curr.next\n",
    "            position -= 1\n",
    "        new_node = Node(data, curr.next, curr)\n",
    "        curr.next = new_node\n",
    "        self.size += 1\n",
    "        \n",
    "            \n",
    "    \n",
    "        "
   ]
  },
  {
   "cell_type": "code",
   "execution_count": 99,
   "metadata": {},
   "outputs": [
    {
     "name": "stdout",
     "output_type": "stream",
     "text": [
      "5 3 2 7 9 \n",
      "\n",
      "5 3 2 7 "
     ]
    }
   ],
   "source": [
    "d = DoublyLinkedList()\n",
    "d.add(5)\n",
    "d.add(3)\n",
    "d.add(2)\n",
    "d.add(7)\n",
    "d.add(9)\n",
    "d.display()\n",
    "d.remove(9)\n",
    "print('\\n')\n",
    "d.display()"
   ]
  },
  {
   "cell_type": "code",
   "execution_count": 103,
   "metadata": {},
   "outputs": [
    {
     "name": "stdout",
     "output_type": "stream",
     "text": [
      "3 2 7 1 1 1 "
     ]
    }
   ],
   "source": [
    "d.insert(1,4)\n",
    "d.display()"
   ]
  },
  {
   "cell_type": "code",
   "execution_count": 101,
   "metadata": {},
   "outputs": [
    {
     "name": "stdout",
     "output_type": "stream",
     "text": [
      "3 2 7 1 "
     ]
    }
   ],
   "source": [
    "d.remove(5)\n",
    "d.display()"
   ]
  },
  {
   "cell_type": "code",
   "execution_count": null,
   "metadata": {
    "collapsed": true
   },
   "outputs": [],
   "source": []
  }
 ],
 "metadata": {
  "kernelspec": {
   "display_name": "Python 3",
   "language": "python",
   "name": "python3"
  },
  "language_info": {
   "codemirror_mode": {
    "name": "ipython",
    "version": 3
   },
   "file_extension": ".py",
   "mimetype": "text/x-python",
   "name": "python",
   "nbconvert_exporter": "python",
   "pygments_lexer": "ipython3",
   "version": "3.5.0"
  }
 },
 "nbformat": 4,
 "nbformat_minor": 2
}
